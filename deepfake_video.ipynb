{
 "cells": [
  {
   "cell_type": "code",
   "execution_count": 1,
   "id": "2151ccc0",
   "metadata": {
    "execution": {
     "iopub.execute_input": "2025-10-14T15:39:05.757403Z",
     "iopub.status.busy": "2025-10-14T15:39:05.756478Z",
     "iopub.status.idle": "2025-10-14T15:40:17.539127Z",
     "shell.execute_reply": "2025-10-14T15:40:17.538108Z"
    },
    "papermill": {
     "duration": 71.791777,
     "end_time": "2025-10-14T15:40:17.541012",
     "exception": false,
     "start_time": "2025-10-14T15:39:05.749235",
     "status": "completed"
    },
    "tags": []
   },
   "outputs": [
    {
     "name": "stdout",
     "output_type": "stream",
     "text": [
      "Collecting facenet-pytorch==2.5.3\r\n",
      "  Downloading facenet_pytorch-2.5.3-py3-none-any.whl.metadata (13 kB)\r\n",
      "Requirement already satisfied: numpy in /usr/local/lib/python3.11/dist-packages (from facenet-pytorch==2.5.3) (1.26.4)\r\n",
      "Requirement already satisfied: requests in /usr/local/lib/python3.11/dist-packages (from facenet-pytorch==2.5.3) (2.32.5)\r\n",
      "Requirement already satisfied: torchvision in /usr/local/lib/python3.11/dist-packages (from facenet-pytorch==2.5.3) (0.21.0+cu124)\r\n",
      "Requirement already satisfied: pillow in /usr/local/lib/python3.11/dist-packages (from facenet-pytorch==2.5.3) (11.3.0)\r\n",
      "Requirement already satisfied: mkl_fft in /usr/local/lib/python3.11/dist-packages (from numpy->facenet-pytorch==2.5.3) (1.3.8)\r\n",
      "Requirement already satisfied: mkl_random in /usr/local/lib/python3.11/dist-packages (from numpy->facenet-pytorch==2.5.3) (1.2.4)\r\n",
      "Requirement already satisfied: mkl_umath in /usr/local/lib/python3.11/dist-packages (from numpy->facenet-pytorch==2.5.3) (0.1.1)\r\n",
      "Requirement already satisfied: mkl in /usr/local/lib/python3.11/dist-packages (from numpy->facenet-pytorch==2.5.3) (2025.2.0)\r\n",
      "Requirement already satisfied: tbb4py in /usr/local/lib/python3.11/dist-packages (from numpy->facenet-pytorch==2.5.3) (2022.2.0)\r\n",
      "Requirement already satisfied: mkl-service in /usr/local/lib/python3.11/dist-packages (from numpy->facenet-pytorch==2.5.3) (2.4.1)\r\n",
      "Requirement already satisfied: charset_normalizer<4,>=2 in /usr/local/lib/python3.11/dist-packages (from requests->facenet-pytorch==2.5.3) (3.4.3)\r\n",
      "Requirement already satisfied: idna<4,>=2.5 in /usr/local/lib/python3.11/dist-packages (from requests->facenet-pytorch==2.5.3) (3.10)\r\n",
      "Requirement already satisfied: urllib3<3,>=1.21.1 in /usr/local/lib/python3.11/dist-packages (from requests->facenet-pytorch==2.5.3) (2.5.0)\r\n",
      "Requirement already satisfied: certifi>=2017.4.17 in /usr/local/lib/python3.11/dist-packages (from requests->facenet-pytorch==2.5.3) (2025.8.3)\r\n",
      "Requirement already satisfied: torch==2.6.0 in /usr/local/lib/python3.11/dist-packages (from torchvision->facenet-pytorch==2.5.3) (2.6.0+cu124)\r\n",
      "Requirement already satisfied: filelock in /usr/local/lib/python3.11/dist-packages (from torch==2.6.0->torchvision->facenet-pytorch==2.5.3) (3.19.1)\r\n",
      "Requirement already satisfied: typing-extensions>=4.10.0 in /usr/local/lib/python3.11/dist-packages (from torch==2.6.0->torchvision->facenet-pytorch==2.5.3) (4.15.0)\r\n",
      "Requirement already satisfied: networkx in /usr/local/lib/python3.11/dist-packages (from torch==2.6.0->torchvision->facenet-pytorch==2.5.3) (3.5)\r\n",
      "Requirement already satisfied: jinja2 in /usr/local/lib/python3.11/dist-packages (from torch==2.6.0->torchvision->facenet-pytorch==2.5.3) (3.1.6)\r\n",
      "Requirement already satisfied: fsspec in /usr/local/lib/python3.11/dist-packages (from torch==2.6.0->torchvision->facenet-pytorch==2.5.3) (2025.9.0)\r\n",
      "Collecting nvidia-cuda-nvrtc-cu12==12.4.127 (from torch==2.6.0->torchvision->facenet-pytorch==2.5.3)\r\n",
      "  Downloading nvidia_cuda_nvrtc_cu12-12.4.127-py3-none-manylinux2014_x86_64.whl.metadata (1.5 kB)\r\n",
      "Collecting nvidia-cuda-runtime-cu12==12.4.127 (from torch==2.6.0->torchvision->facenet-pytorch==2.5.3)\r\n",
      "  Downloading nvidia_cuda_runtime_cu12-12.4.127-py3-none-manylinux2014_x86_64.whl.metadata (1.5 kB)\r\n",
      "Collecting nvidia-cuda-cupti-cu12==12.4.127 (from torch==2.6.0->torchvision->facenet-pytorch==2.5.3)\r\n",
      "  Downloading nvidia_cuda_cupti_cu12-12.4.127-py3-none-manylinux2014_x86_64.whl.metadata (1.6 kB)\r\n",
      "Collecting nvidia-cudnn-cu12==9.1.0.70 (from torch==2.6.0->torchvision->facenet-pytorch==2.5.3)\r\n",
      "  Downloading nvidia_cudnn_cu12-9.1.0.70-py3-none-manylinux2014_x86_64.whl.metadata (1.6 kB)\r\n",
      "Collecting nvidia-cublas-cu12==12.4.5.8 (from torch==2.6.0->torchvision->facenet-pytorch==2.5.3)\r\n",
      "  Downloading nvidia_cublas_cu12-12.4.5.8-py3-none-manylinux2014_x86_64.whl.metadata (1.5 kB)\r\n",
      "Collecting nvidia-cufft-cu12==11.2.1.3 (from torch==2.6.0->torchvision->facenet-pytorch==2.5.3)\r\n",
      "  Downloading nvidia_cufft_cu12-11.2.1.3-py3-none-manylinux2014_x86_64.whl.metadata (1.5 kB)\r\n",
      "Collecting nvidia-curand-cu12==10.3.5.147 (from torch==2.6.0->torchvision->facenet-pytorch==2.5.3)\r\n",
      "  Downloading nvidia_curand_cu12-10.3.5.147-py3-none-manylinux2014_x86_64.whl.metadata (1.5 kB)\r\n",
      "Collecting nvidia-cusolver-cu12==11.6.1.9 (from torch==2.6.0->torchvision->facenet-pytorch==2.5.3)\r\n",
      "  Downloading nvidia_cusolver_cu12-11.6.1.9-py3-none-manylinux2014_x86_64.whl.metadata (1.6 kB)\r\n",
      "Collecting nvidia-cusparse-cu12==12.3.1.170 (from torch==2.6.0->torchvision->facenet-pytorch==2.5.3)\r\n",
      "  Downloading nvidia_cusparse_cu12-12.3.1.170-py3-none-manylinux2014_x86_64.whl.metadata (1.6 kB)\r\n",
      "Requirement already satisfied: nvidia-cusparselt-cu12==0.6.2 in /usr/local/lib/python3.11/dist-packages (from torch==2.6.0->torchvision->facenet-pytorch==2.5.3) (0.6.2)\r\n",
      "Requirement already satisfied: nvidia-nccl-cu12==2.21.5 in /usr/local/lib/python3.11/dist-packages (from torch==2.6.0->torchvision->facenet-pytorch==2.5.3) (2.21.5)\r\n",
      "Requirement already satisfied: nvidia-nvtx-cu12==12.4.127 in /usr/local/lib/python3.11/dist-packages (from torch==2.6.0->torchvision->facenet-pytorch==2.5.3) (12.4.127)\r\n",
      "Collecting nvidia-nvjitlink-cu12==12.4.127 (from torch==2.6.0->torchvision->facenet-pytorch==2.5.3)\r\n",
      "  Downloading nvidia_nvjitlink_cu12-12.4.127-py3-none-manylinux2014_x86_64.whl.metadata (1.5 kB)\r\n",
      "Requirement already satisfied: triton==3.2.0 in /usr/local/lib/python3.11/dist-packages (from torch==2.6.0->torchvision->facenet-pytorch==2.5.3) (3.2.0)\r\n",
      "Requirement already satisfied: sympy==1.13.1 in /usr/local/lib/python3.11/dist-packages (from torch==2.6.0->torchvision->facenet-pytorch==2.5.3) (1.13.1)\r\n",
      "Requirement already satisfied: mpmath<1.4,>=1.1.0 in /usr/local/lib/python3.11/dist-packages (from sympy==1.13.1->torch==2.6.0->torchvision->facenet-pytorch==2.5.3) (1.3.0)\r\n",
      "Requirement already satisfied: intel-openmp<2026,>=2024 in /usr/local/lib/python3.11/dist-packages (from mkl->numpy->facenet-pytorch==2.5.3) (2024.2.0)\r\n",
      "Requirement already satisfied: tbb==2022.* in /usr/local/lib/python3.11/dist-packages (from mkl->numpy->facenet-pytorch==2.5.3) (2022.2.0)\r\n",
      "Requirement already satisfied: tcmlib==1.* in /usr/local/lib/python3.11/dist-packages (from tbb==2022.*->mkl->numpy->facenet-pytorch==2.5.3) (1.4.0)\r\n",
      "Requirement already satisfied: intel-cmplr-lib-rt in /usr/local/lib/python3.11/dist-packages (from mkl_umath->numpy->facenet-pytorch==2.5.3) (2024.2.0)\r\n",
      "Requirement already satisfied: intel-cmplr-lib-ur==2024.2.0 in /usr/local/lib/python3.11/dist-packages (from intel-openmp<2026,>=2024->mkl->numpy->facenet-pytorch==2.5.3) (2024.2.0)\r\n",
      "Requirement already satisfied: MarkupSafe>=2.0 in /usr/local/lib/python3.11/dist-packages (from jinja2->torch==2.6.0->torchvision->facenet-pytorch==2.5.3) (3.0.2)\r\n",
      "Downloading facenet_pytorch-2.5.3-py3-none-any.whl (1.9 MB)\r\n",
      "\u001b[2K   \u001b[90m━━━━━━━━━━━━━━━━━━━━━━━━━━━━━━━━━━━━━━━━\u001b[0m \u001b[32m1.9/1.9 MB\u001b[0m \u001b[31m25.4 MB/s\u001b[0m eta \u001b[36m0:00:00\u001b[0m\r\n",
      "\u001b[?25hDownloading nvidia_cublas_cu12-12.4.5.8-py3-none-manylinux2014_x86_64.whl (363.4 MB)\r\n",
      "\u001b[2K   \u001b[90m━━━━━━━━━━━━━━━━━━━━━━━━━━━━━━━━━━━━━━━━\u001b[0m \u001b[32m363.4/363.4 MB\u001b[0m \u001b[31m4.0 MB/s\u001b[0m eta \u001b[36m0:00:00\u001b[0m\r\n",
      "\u001b[?25hDownloading nvidia_cuda_cupti_cu12-12.4.127-py3-none-manylinux2014_x86_64.whl (13.8 MB)\r\n",
      "\u001b[2K   \u001b[90m━━━━━━━━━━━━━━━━━━━━━━━━━━━━━━━━━━━━━━━━\u001b[0m \u001b[32m13.8/13.8 MB\u001b[0m \u001b[31m89.1 MB/s\u001b[0m eta \u001b[36m0:00:00\u001b[0m\r\n",
      "\u001b[?25hDownloading nvidia_cuda_nvrtc_cu12-12.4.127-py3-none-manylinux2014_x86_64.whl (24.6 MB)\r\n",
      "\u001b[2K   \u001b[90m━━━━━━━━━━━━━━━━━━━━━━━━━━━━━━━━━━━━━━━━\u001b[0m \u001b[32m24.6/24.6 MB\u001b[0m \u001b[31m79.1 MB/s\u001b[0m eta \u001b[36m0:00:00\u001b[0m\r\n",
      "\u001b[?25hDownloading nvidia_cuda_runtime_cu12-12.4.127-py3-none-manylinux2014_x86_64.whl (883 kB)\r\n",
      "\u001b[2K   \u001b[90m━━━━━━━━━━━━━━━━━━━━━━━━━━━━━━━━━━━━━━━━\u001b[0m \u001b[32m883.7/883.7 kB\u001b[0m \u001b[31m47.4 MB/s\u001b[0m eta \u001b[36m0:00:00\u001b[0m\r\n",
      "\u001b[?25hDownloading nvidia_cudnn_cu12-9.1.0.70-py3-none-manylinux2014_x86_64.whl (664.8 MB)\r\n",
      "\u001b[2K   \u001b[90m━━━━━━━━━━━━━━━━━━━━━━━━━━━━━━━━━━━━━━━━\u001b[0m \u001b[32m664.8/664.8 MB\u001b[0m \u001b[31m2.0 MB/s\u001b[0m eta \u001b[36m0:00:00\u001b[0m\r\n",
      "\u001b[?25hDownloading nvidia_cufft_cu12-11.2.1.3-py3-none-manylinux2014_x86_64.whl (211.5 MB)\r\n",
      "\u001b[2K   \u001b[90m━━━━━━━━━━━━━━━━━━━━━━━━━━━━━━━━━━━━━━━━\u001b[0m \u001b[32m211.5/211.5 MB\u001b[0m \u001b[31m8.1 MB/s\u001b[0m eta \u001b[36m0:00:00\u001b[0m\r\n",
      "\u001b[?25hDownloading nvidia_curand_cu12-10.3.5.147-py3-none-manylinux2014_x86_64.whl (56.3 MB)\r\n",
      "\u001b[2K   \u001b[90m━━━━━━━━━━━━━━━━━━━━━━━━━━━━━━━━━━━━━━━━\u001b[0m \u001b[32m56.3/56.3 MB\u001b[0m \u001b[31m31.0 MB/s\u001b[0m eta \u001b[36m0:00:00\u001b[0m\r\n",
      "\u001b[?25hDownloading nvidia_cusolver_cu12-11.6.1.9-py3-none-manylinux2014_x86_64.whl (127.9 MB)\r\n",
      "\u001b[2K   \u001b[90m━━━━━━━━━━━━━━━━━━━━━━━━━━━━━━━━━━━━━━━━\u001b[0m \u001b[32m127.9/127.9 MB\u001b[0m \u001b[31m13.6 MB/s\u001b[0m eta \u001b[36m0:00:00\u001b[0m\r\n",
      "\u001b[?25hDownloading nvidia_cusparse_cu12-12.3.1.170-py3-none-manylinux2014_x86_64.whl (207.5 MB)\r\n",
      "\u001b[2K   \u001b[90m━━━━━━━━━━━━━━━━━━━━━━━━━━━━━━━━━━━━━━━━\u001b[0m \u001b[32m207.5/207.5 MB\u001b[0m \u001b[31m6.2 MB/s\u001b[0m eta \u001b[36m0:00:00\u001b[0m\r\n",
      "\u001b[?25hDownloading nvidia_nvjitlink_cu12-12.4.127-py3-none-manylinux2014_x86_64.whl (21.1 MB)\r\n",
      "\u001b[2K   \u001b[90m━━━━━━━━━━━━━━━━━━━━━━━━━━━━━━━━━━━━━━━━\u001b[0m \u001b[32m21.1/21.1 MB\u001b[0m \u001b[31m84.7 MB/s\u001b[0m eta \u001b[36m0:00:00\u001b[0m\r\n",
      "\u001b[?25hInstalling collected packages: nvidia-nvjitlink-cu12, nvidia-curand-cu12, nvidia-cufft-cu12, nvidia-cuda-runtime-cu12, nvidia-cuda-nvrtc-cu12, nvidia-cuda-cupti-cu12, nvidia-cublas-cu12, nvidia-cusparse-cu12, nvidia-cudnn-cu12, nvidia-cusolver-cu12, facenet-pytorch\r\n",
      "  Attempting uninstall: nvidia-nvjitlink-cu12\r\n",
      "    Found existing installation: nvidia-nvjitlink-cu12 12.5.82\r\n",
      "    Uninstalling nvidia-nvjitlink-cu12-12.5.82:\r\n",
      "      Successfully uninstalled nvidia-nvjitlink-cu12-12.5.82\r\n",
      "  Attempting uninstall: nvidia-curand-cu12\r\n",
      "    Found existing installation: nvidia-curand-cu12 10.3.6.82\r\n",
      "    Uninstalling nvidia-curand-cu12-10.3.6.82:\r\n",
      "      Successfully uninstalled nvidia-curand-cu12-10.3.6.82\r\n",
      "  Attempting uninstall: nvidia-cufft-cu12\r\n",
      "    Found existing installation: nvidia-cufft-cu12 11.2.3.61\r\n",
      "    Uninstalling nvidia-cufft-cu12-11.2.3.61:\r\n",
      "      Successfully uninstalled nvidia-cufft-cu12-11.2.3.61\r\n",
      "  Attempting uninstall: nvidia-cuda-runtime-cu12\r\n",
      "    Found existing installation: nvidia-cuda-runtime-cu12 12.5.82\r\n",
      "    Uninstalling nvidia-cuda-runtime-cu12-12.5.82:\r\n",
      "      Successfully uninstalled nvidia-cuda-runtime-cu12-12.5.82\r\n",
      "  Attempting uninstall: nvidia-cuda-nvrtc-cu12\r\n",
      "    Found existing installation: nvidia-cuda-nvrtc-cu12 12.5.82\r\n",
      "    Uninstalling nvidia-cuda-nvrtc-cu12-12.5.82:\r\n",
      "      Successfully uninstalled nvidia-cuda-nvrtc-cu12-12.5.82\r\n",
      "  Attempting uninstall: nvidia-cuda-cupti-cu12\r\n",
      "    Found existing installation: nvidia-cuda-cupti-cu12 12.5.82\r\n",
      "    Uninstalling nvidia-cuda-cupti-cu12-12.5.82:\r\n",
      "      Successfully uninstalled nvidia-cuda-cupti-cu12-12.5.82\r\n",
      "  Attempting uninstall: nvidia-cublas-cu12\r\n",
      "    Found existing installation: nvidia-cublas-cu12 12.5.3.2\r\n",
      "    Uninstalling nvidia-cublas-cu12-12.5.3.2:\r\n",
      "      Successfully uninstalled nvidia-cublas-cu12-12.5.3.2\r\n",
      "  Attempting uninstall: nvidia-cusparse-cu12\r\n",
      "    Found existing installation: nvidia-cusparse-cu12 12.5.1.3\r\n",
      "    Uninstalling nvidia-cusparse-cu12-12.5.1.3:\r\n",
      "      Successfully uninstalled nvidia-cusparse-cu12-12.5.1.3\r\n",
      "  Attempting uninstall: nvidia-cudnn-cu12\r\n",
      "    Found existing installation: nvidia-cudnn-cu12 9.3.0.75\r\n",
      "    Uninstalling nvidia-cudnn-cu12-9.3.0.75:\r\n",
      "      Successfully uninstalled nvidia-cudnn-cu12-9.3.0.75\r\n",
      "  Attempting uninstall: nvidia-cusolver-cu12\r\n",
      "    Found existing installation: nvidia-cusolver-cu12 11.6.3.83\r\n",
      "    Uninstalling nvidia-cusolver-cu12-11.6.3.83:\r\n",
      "      Successfully uninstalled nvidia-cusolver-cu12-11.6.3.83\r\n",
      "\u001b[31mERROR: pip's dependency resolver does not currently take into account all the packages that are installed. This behaviour is the source of the following dependency conflicts.\r\n",
      "libcugraph-cu12 25.6.0 requires libraft-cu12==25.6.*, but you have libraft-cu12 25.2.0 which is incompatible.\r\n",
      "pylibcugraph-cu12 25.6.0 requires pylibraft-cu12==25.6.*, but you have pylibraft-cu12 25.2.0 which is incompatible.\r\n",
      "pylibcugraph-cu12 25.6.0 requires rmm-cu12==25.6.*, but you have rmm-cu12 25.2.0 which is incompatible.\u001b[0m\u001b[31m\r\n",
      "\u001b[0mSuccessfully installed facenet-pytorch-2.5.3 nvidia-cublas-cu12-12.4.5.8 nvidia-cuda-cupti-cu12-12.4.127 nvidia-cuda-nvrtc-cu12-12.4.127 nvidia-cuda-runtime-cu12-12.4.127 nvidia-cudnn-cu12-9.1.0.70 nvidia-cufft-cu12-11.2.1.3 nvidia-curand-cu12-10.3.5.147 nvidia-cusolver-cu12-11.6.1.9 nvidia-cusparse-cu12-12.3.1.170 nvidia-nvjitlink-cu12-12.4.127\r\n",
      "Requirement already satisfied: torch==2.6.0 in /usr/local/lib/python3.11/dist-packages (2.6.0+cu124)\r\n",
      "Requirement already satisfied: torchvision==0.21.0 in /usr/local/lib/python3.11/dist-packages (0.21.0+cu124)\r\n",
      "Requirement already satisfied: torchaudio==2.6.0 in /usr/local/lib/python3.11/dist-packages (2.6.0+cu124)\r\n",
      "Requirement already satisfied: filelock in /usr/local/lib/python3.11/dist-packages (from torch==2.6.0) (3.19.1)\r\n",
      "Requirement already satisfied: typing-extensions>=4.10.0 in /usr/local/lib/python3.11/dist-packages (from torch==2.6.0) (4.15.0)\r\n",
      "Requirement already satisfied: networkx in /usr/local/lib/python3.11/dist-packages (from torch==2.6.0) (3.5)\r\n",
      "Requirement already satisfied: jinja2 in /usr/local/lib/python3.11/dist-packages (from torch==2.6.0) (3.1.6)\r\n",
      "Requirement already satisfied: fsspec in /usr/local/lib/python3.11/dist-packages (from torch==2.6.0) (2025.9.0)\r\n",
      "Requirement already satisfied: nvidia-cuda-nvrtc-cu12==12.4.127 in /usr/local/lib/python3.11/dist-packages (from torch==2.6.0) (12.4.127)\r\n",
      "Requirement already satisfied: nvidia-cuda-runtime-cu12==12.4.127 in /usr/local/lib/python3.11/dist-packages (from torch==2.6.0) (12.4.127)\r\n",
      "Requirement already satisfied: nvidia-cuda-cupti-cu12==12.4.127 in /usr/local/lib/python3.11/dist-packages (from torch==2.6.0) (12.4.127)\r\n",
      "Requirement already satisfied: nvidia-cudnn-cu12==9.1.0.70 in /usr/local/lib/python3.11/dist-packages (from torch==2.6.0) (9.1.0.70)\r\n",
      "Requirement already satisfied: nvidia-cublas-cu12==12.4.5.8 in /usr/local/lib/python3.11/dist-packages (from torch==2.6.0) (12.4.5.8)\r\n",
      "Requirement already satisfied: nvidia-cufft-cu12==11.2.1.3 in /usr/local/lib/python3.11/dist-packages (from torch==2.6.0) (11.2.1.3)\r\n",
      "Requirement already satisfied: nvidia-curand-cu12==10.3.5.147 in /usr/local/lib/python3.11/dist-packages (from torch==2.6.0) (10.3.5.147)\r\n",
      "Requirement already satisfied: nvidia-cusolver-cu12==11.6.1.9 in /usr/local/lib/python3.11/dist-packages (from torch==2.6.0) (11.6.1.9)\r\n",
      "Requirement already satisfied: nvidia-cusparse-cu12==12.3.1.170 in /usr/local/lib/python3.11/dist-packages (from torch==2.6.0) (12.3.1.170)\r\n",
      "Requirement already satisfied: nvidia-cusparselt-cu12==0.6.2 in /usr/local/lib/python3.11/dist-packages (from torch==2.6.0) (0.6.2)\r\n",
      "Requirement already satisfied: nvidia-nccl-cu12==2.21.5 in /usr/local/lib/python3.11/dist-packages (from torch==2.6.0) (2.21.5)\r\n",
      "Requirement already satisfied: nvidia-nvtx-cu12==12.4.127 in /usr/local/lib/python3.11/dist-packages (from torch==2.6.0) (12.4.127)\r\n",
      "Requirement already satisfied: nvidia-nvjitlink-cu12==12.4.127 in /usr/local/lib/python3.11/dist-packages (from torch==2.6.0) (12.4.127)\r\n",
      "Requirement already satisfied: triton==3.2.0 in /usr/local/lib/python3.11/dist-packages (from torch==2.6.0) (3.2.0)\r\n",
      "Requirement already satisfied: sympy==1.13.1 in /usr/local/lib/python3.11/dist-packages (from torch==2.6.0) (1.13.1)\r\n",
      "Requirement already satisfied: numpy in /usr/local/lib/python3.11/dist-packages (from torchvision==0.21.0) (1.26.4)\r\n",
      "Requirement already satisfied: pillow!=8.3.*,>=5.3.0 in /usr/local/lib/python3.11/dist-packages (from torchvision==0.21.0) (11.3.0)\r\n",
      "Requirement already satisfied: mpmath<1.4,>=1.1.0 in /usr/local/lib/python3.11/dist-packages (from sympy==1.13.1->torch==2.6.0) (1.3.0)\r\n",
      "Requirement already satisfied: MarkupSafe>=2.0 in /usr/local/lib/python3.11/dist-packages (from jinja2->torch==2.6.0) (3.0.2)\r\n",
      "Requirement already satisfied: mkl_fft in /usr/local/lib/python3.11/dist-packages (from numpy->torchvision==0.21.0) (1.3.8)\r\n",
      "Requirement already satisfied: mkl_random in /usr/local/lib/python3.11/dist-packages (from numpy->torchvision==0.21.0) (1.2.4)\r\n",
      "Requirement already satisfied: mkl_umath in /usr/local/lib/python3.11/dist-packages (from numpy->torchvision==0.21.0) (0.1.1)\r\n",
      "Requirement already satisfied: mkl in /usr/local/lib/python3.11/dist-packages (from numpy->torchvision==0.21.0) (2025.2.0)\r\n",
      "Requirement already satisfied: tbb4py in /usr/local/lib/python3.11/dist-packages (from numpy->torchvision==0.21.0) (2022.2.0)\r\n",
      "Requirement already satisfied: mkl-service in /usr/local/lib/python3.11/dist-packages (from numpy->torchvision==0.21.0) (2.4.1)\r\n",
      "Requirement already satisfied: intel-openmp<2026,>=2024 in /usr/local/lib/python3.11/dist-packages (from mkl->numpy->torchvision==0.21.0) (2024.2.0)\r\n",
      "Requirement already satisfied: tbb==2022.* in /usr/local/lib/python3.11/dist-packages (from mkl->numpy->torchvision==0.21.0) (2022.2.0)\r\n",
      "Requirement already satisfied: tcmlib==1.* in /usr/local/lib/python3.11/dist-packages (from tbb==2022.*->mkl->numpy->torchvision==0.21.0) (1.4.0)\r\n",
      "Requirement already satisfied: intel-cmplr-lib-rt in /usr/local/lib/python3.11/dist-packages (from mkl_umath->numpy->torchvision==0.21.0) (2024.2.0)\r\n",
      "Requirement already satisfied: intel-cmplr-lib-ur==2024.2.0 in /usr/local/lib/python3.11/dist-packages (from intel-openmp<2026,>=2024->mkl->numpy->torchvision==0.21.0) (2024.2.0)\r\n"
     ]
    }
   ],
   "source": [
    "!pip install facenet-pytorch==2.5.3\n",
    "!pip install torch==2.6.0 torchvision==0.21.0 torchaudio==2.6.0"
   ]
  },
  {
   "cell_type": "code",
   "execution_count": null,
   "id": "b83c42b3",
   "metadata": {
    "papermill": {
     "duration": 0.021164,
     "end_time": "2025-10-14T15:40:17.583925",
     "exception": false,
     "start_time": "2025-10-14T15:40:17.562761",
     "status": "completed"
    },
    "tags": []
   },
   "outputs": [],
   "source": []
  },
  {
   "cell_type": "code",
   "execution_count": 2,
   "id": "47cb45ce",
   "metadata": {
    "execution": {
     "iopub.execute_input": "2025-10-14T15:40:17.627148Z",
     "iopub.status.busy": "2025-10-14T15:40:17.626877Z",
     "iopub.status.idle": "2025-10-14T15:40:30.377782Z",
     "shell.execute_reply": "2025-10-14T15:40:30.376855Z"
    },
    "papermill": {
     "duration": 12.774269,
     "end_time": "2025-10-14T15:40:30.379060",
     "exception": false,
     "start_time": "2025-10-14T15:40:17.604791",
     "status": "completed"
    },
    "tags": []
   },
   "outputs": [
    {
     "name": "stdout",
     "output_type": "stream",
     "text": [
      "Device: cuda\n",
      "GPU: Tesla T4\n"
     ]
    }
   ],
   "source": [
    "import os, time, random, shutil\n",
    "from pathlib import Path\n",
    "import numpy as np, pandas as pd\n",
    "from tqdm import tqdm\n",
    "import matplotlib.pyplot as plt\n",
    "import cv2\n",
    "\n",
    "# PyTorch\n",
    "import torch\n",
    "import torch.nn as nn\n",
    "import torch.optim as optim\n",
    "from torch.utils.data import Dataset, DataLoader, random_split\n",
    "from torchvision import models, transforms\n",
    "import torch.backends.cudnn as cudnn\n",
    "\n",
    "# Sklearn metrics\n",
    "from sklearn.metrics import confusion_matrix, classification_report, accuracy_score, roc_auc_score\n",
    "\n",
    "# Misc\n",
    "SEED = 42\n",
    "random.seed(SEED); np.random.seed(SEED); torch.manual_seed(SEED)\n",
    "cudnn.benchmark = True\n",
    "\n",
    "# Paths (adjust if needed)\n",
    "BASE_DIR = \"/kaggle/input/ff-c23/FaceForensics++_C23\"\n",
    "WORK_DIR = \"/kaggle/working/deepfake_project\"\n",
    "os.makedirs(WORK_DIR, exist_ok=True)\n",
    "\n",
    "# GPU device\n",
    "device = torch.device(\"cuda\" if torch.cuda.is_available() else \"cpu\")\n",
    "print(\"Device:\", device)\n",
    "if device.type==\"cuda\":\n",
    "    print(\"GPU:\", torch.cuda.get_device_name(0))\n"
   ]
  },
  {
   "cell_type": "code",
   "execution_count": 3,
   "id": "753c332a",
   "metadata": {
    "execution": {
     "iopub.execute_input": "2025-10-14T15:40:30.422119Z",
     "iopub.status.busy": "2025-10-14T15:40:30.421520Z",
     "iopub.status.idle": "2025-10-14T15:40:30.774157Z",
     "shell.execute_reply": "2025-10-14T15:40:30.773188Z"
    },
    "papermill": {
     "duration": 0.375201,
     "end_time": "2025-10-14T15:40:30.775407",
     "exception": false,
     "start_time": "2025-10-14T15:40:30.400206",
     "status": "completed"
    },
    "tags": []
   },
   "outputs": [
    {
     "name": "stdout",
     "output_type": "stream",
     "text": [
      "Total videos: 6000\n",
      "label\n",
      "REAL              1000\n",
      "Deepfakes         1000\n",
      "Face2Face         1000\n",
      "FaceSwap          1000\n",
      "NeuralTextures    1000\n",
      "FaceShifter       1000\n",
      "Name: count, dtype: int64\n"
     ]
    }
   ],
   "source": [
    "# Cell 2: build df listing video paths and labels\n",
    "folders = {\n",
    "    \"original\": \"REAL\",\n",
    "    \"Deepfakes\": \"Deepfakes\",\n",
    "    \"Face2Face\": \"Face2Face\",\n",
    "    \"FaceSwap\": \"FaceSwap\",\n",
    "    \"NeuralTextures\": \"NeuralTextures\",\n",
    "    \"FaceShifter\": \"FaceShifter\"\n",
    "}\n",
    "data=[]\n",
    "for sub, label in folders.items():\n",
    "    p = Path(BASE_DIR)/sub\n",
    "    if p.exists():\n",
    "        for f in sorted(p.iterdir()):\n",
    "            if f.suffix.lower() in [\".mp4\", \".mov\", \".avi\"]:\n",
    "                data.append({\"video_path\": str(f), \"label\": label})\n",
    "df = pd.DataFrame(data)\n",
    "print(\"Total videos:\", len(df))\n",
    "print(df.label.value_counts())\n",
    "# Save df for reload after disconnect\n",
    "df.to_csv(Path(WORK_DIR)/\"video_list.csv\", index=False)\n"
   ]
  },
  {
   "cell_type": "code",
   "execution_count": 4,
   "id": "f21dc227",
   "metadata": {
    "execution": {
     "iopub.execute_input": "2025-10-14T15:40:30.818894Z",
     "iopub.status.busy": "2025-10-14T15:40:30.818494Z",
     "iopub.status.idle": "2025-10-14T15:40:30.823782Z",
     "shell.execute_reply": "2025-10-14T15:40:30.823074Z"
    },
    "papermill": {
     "duration": 0.027599,
     "end_time": "2025-10-14T15:40:30.825072",
     "exception": false,
     "start_time": "2025-10-14T15:40:30.797473",
     "status": "completed"
    },
    "tags": []
   },
   "outputs": [],
   "source": [
    "# Cell 3: frame extraction utilities\n",
    "FRAME_SIZE = (224,224)   # can change to 128 or 256\n",
    "FRAMES_PER_VIDEO = 8     # balance speed vs data\n",
    "\n",
    "def extract_frames_from_video(video_path, n_frames=FRAMES_PER_VIDEO, size=FRAME_SIZE):\n",
    "    cap = cv2.VideoCapture(video_path)\n",
    "    if not cap.isOpened():\n",
    "        return []\n",
    "    total = int(cap.get(cv2.CAP_PROP_FRAME_COUNT))\n",
    "    if total <= 0:\n",
    "        cap.release(); return []\n",
    "    # sample indices evenly\n",
    "    indices = np.linspace(0, total-1, n_frames, dtype=int)\n",
    "    frames=[]\n",
    "    for idx in indices:\n",
    "        cap.set(cv2.CAP_PROP_POS_FRAMES, int(idx))\n",
    "        ret, frame = cap.read()\n",
    "        if not ret: break\n",
    "        frame = cv2.cvtColor(frame, cv2.COLOR_BGR2RGB)\n",
    "        frame = cv2.resize(frame, size)\n",
    "        frames.append(frame)\n",
    "    cap.release()\n",
    "    return frames\n"
   ]
  },
  {
   "cell_type": "code",
   "execution_count": 5,
   "id": "2d09ea7a",
   "metadata": {
    "execution": {
     "iopub.execute_input": "2025-10-14T15:40:30.866897Z",
     "iopub.status.busy": "2025-10-14T15:40:30.866352Z",
     "iopub.status.idle": "2025-10-14T18:16:10.726194Z",
     "shell.execute_reply": "2025-10-14T18:16:10.725182Z"
    },
    "papermill": {
     "duration": 9339.88201,
     "end_time": "2025-10-14T18:16:10.727470",
     "exception": false,
     "start_time": "2025-10-14T15:40:30.845460",
     "status": "completed"
    },
    "tags": []
   },
   "outputs": [
    {
     "name": "stdout",
     "output_type": "stream",
     "text": [
      "Creating frames in /kaggle/working/deepfake_project/frames_binary\n"
     ]
    },
    {
     "name": "stderr",
     "output_type": "stream",
     "text": [
      "Extracting all videos: 100%|██████████| 6000/6000 [2:35:39<00:00,  1.56s/it]"
     ]
    },
    {
     "name": "stdout",
     "output_type": "stream",
     "text": [
      "Done extracting frames.\n",
      "REAL total frames (approx): 8000\n",
      "FAKE total frames (approx): 8000\n"
     ]
    },
    {
     "name": "stderr",
     "output_type": "stream",
     "text": [
      "\n"
     ]
    }
   ],
   "source": [
    "# Cell 4: create frames folder structure (REAL vs FAKE binary)\n",
    "FRAMES_ROOT = Path(WORK_DIR)/\"frames_binary\"\n",
    "if FRAMES_ROOT.exists():\n",
    "    print(\"Frames folder exists:\", FRAMES_ROOT)\n",
    "else:\n",
    "    print(\"Creating frames in\", FRAMES_ROOT)\n",
    "    (FRAMES_ROOT).mkdir(parents=True, exist_ok=True)\n",
    "    # iterate df and save frames (balance caution: small dataset in FF++ example)\n",
    "    for i,row in tqdm(df.iterrows(), total=len(df), desc=\"Extracting all videos\"):\n",
    "        label = \"REAL\" if row.label==\"REAL\" else \"FAKE\"\n",
    "        video_path = row.video_path\n",
    "        video_name = Path(video_path).stem\n",
    "        out_dir = FRAMES_ROOT/label/video_name\n",
    "        out_dir.mkdir(parents=True, exist_ok=True)\n",
    "        frames = extract_frames_from_video(video_path, n_frames=FRAMES_PER_VIDEO, size=FRAME_SIZE)\n",
    "        for j,frm in enumerate(frames):\n",
    "            out_path = out_dir/f\"{j:03d}.jpg\"\n",
    "            # save as BGR for imwrite\n",
    "            cv2.imwrite(str(out_path), cv2.cvtColor(frm, cv2.COLOR_RGB2BGR))\n",
    "print(\"Done extracting frames.\")\n",
    "# quick check counts\n",
    "for cls in [\"REAL\",\"FAKE\"]:\n",
    "    p = FRAMES_ROOT/cls\n",
    "    cnt = sum(len(list(v.glob(\"*.jpg\"))) for v in p.iterdir()) if p.exists() else 0\n",
    "    print(cls, \"total frames (approx):\", cnt)\n"
   ]
  },
  {
   "cell_type": "code",
   "execution_count": 6,
   "id": "05dfba7b",
   "metadata": {
    "execution": {
     "iopub.execute_input": "2025-10-14T18:16:11.221183Z",
     "iopub.status.busy": "2025-10-14T18:16:11.220934Z",
     "iopub.status.idle": "2025-10-14T18:16:11.350558Z",
     "shell.execute_reply": "2025-10-14T18:16:11.349860Z"
    },
    "papermill": {
     "duration": 0.376247,
     "end_time": "2025-10-14T18:16:11.351729",
     "exception": false,
     "start_time": "2025-10-14T18:16:10.975482",
     "status": "completed"
    },
    "tags": []
   },
   "outputs": [
    {
     "name": "stdout",
     "output_type": "stream",
     "text": [
      "Total frames in dataset: 16000\n",
      "Train/Val/Test frames: 11200 2400 2400\n"
     ]
    }
   ],
   "source": [
    "# Cell 5: dataset/dataloader\n",
    "class FramesDataset(Dataset):\n",
    "    def __init__(self, root_dir, transform=None):\n",
    "        self.samples=[]\n",
    "        self.transform = transform\n",
    "        root = Path(root_dir)\n",
    "        for cls_idx, cls in enumerate(sorted(os.listdir(root))):\n",
    "            cls_path = root/cls\n",
    "            if not cls_path.exists(): continue\n",
    "            for video_folder in cls_path.iterdir():\n",
    "                jpgs = sorted(video_folder.glob(\"*.jpg\"))\n",
    "                for jpg in jpgs:\n",
    "                    self.samples.append((str(jpg), 0 if cls==\"REAL\" else 1))\n",
    "    def __len__(self): return len(self.samples)\n",
    "    def __getitem__(self, idx):\n",
    "        path,label = self.samples[idx]\n",
    "        img = cv2.imread(path)[:,:,::-1]  # BGR -> RGB\n",
    "        if self.transform:\n",
    "            img = self.transform(img)\n",
    "        return img, label\n",
    "\n",
    "# transforms\n",
    "train_transform = transforms.Compose([\n",
    "    transforms.ToPILImage(),\n",
    "    transforms.RandomHorizontalFlip(),\n",
    "    transforms.RandomRotation(10),\n",
    "    transforms.ColorJitter(0.1,0.1,0.1,0.05),\n",
    "    transforms.ToTensor(),\n",
    "    transforms.Normalize([0.485,0.456,0.406],[0.229,0.224,0.225])\n",
    "])\n",
    "test_transform = transforms.Compose([\n",
    "    transforms.ToPILImage(),\n",
    "    transforms.ToTensor(),\n",
    "    transforms.Normalize([0.485,0.456,0.406],[0.229,0.224,0.225])\n",
    "])\n",
    "# create dataset\n",
    "full_ds = FramesDataset(FRAMES_ROOT, transform=train_transform)\n",
    "print(\"Total frames in dataset:\", len(full_ds))\n",
    "\n",
    "# split train/val/test 70/15/15\n",
    "n = len(full_ds)\n",
    "n_train = int(0.7*n)\n",
    "n_val = int(0.15*n)\n",
    "n_test = n - n_train - n_val\n",
    "train_ds, val_ds, test_ds = random_split(full_ds, [n_train, n_val, n_test], generator=torch.Generator().manual_seed(SEED))\n",
    "\n",
    "# replace val/test transforms\n",
    "val_ds.dataset.transform = test_transform\n",
    "test_ds.dataset.transform = test_transform\n",
    "\n",
    "# dataloaders\n",
    "BATCH_SIZE = 32\n",
    "train_loader = DataLoader(train_ds, batch_size=BATCH_SIZE, shuffle=True, num_workers=4, pin_memory=True)\n",
    "val_loader   = DataLoader(val_ds,   batch_size=BATCH_SIZE, shuffle=False, num_workers=2, pin_memory=True)\n",
    "test_loader  = DataLoader(test_ds,  batch_size=BATCH_SIZE, shuffle=False, num_workers=2, pin_memory=True)\n",
    "\n",
    "print(\"Train/Val/Test frames:\", len(train_ds), len(val_ds), len(test_ds))\n"
   ]
  },
  {
   "cell_type": "code",
   "execution_count": 7,
   "id": "cbb1b15c",
   "metadata": {
    "execution": {
     "iopub.execute_input": "2025-10-14T18:16:11.920772Z",
     "iopub.status.busy": "2025-10-14T18:16:11.920192Z",
     "iopub.status.idle": "2025-10-14T18:16:28.647703Z",
     "shell.execute_reply": "2025-10-14T18:16:28.646742Z"
    },
    "papermill": {
     "duration": 16.97371,
     "end_time": "2025-10-14T18:16:28.649011",
     "exception": false,
     "start_time": "2025-10-14T18:16:11.675301",
     "status": "completed"
    },
    "tags": []
   },
   "outputs": [
    {
     "name": "stderr",
     "output_type": "stream",
     "text": [
      "Baseline train (1 epoch): 100%|██████████| 350/350 [00:16<00:00, 21.17it/s]"
     ]
    },
    {
     "name": "stdout",
     "output_type": "stream",
     "text": [
      "Baseline train done.\n"
     ]
    },
    {
     "name": "stderr",
     "output_type": "stream",
     "text": [
      "\n"
     ]
    }
   ],
   "source": [
    "# Cell 6: shallow CNN baseline (quick)\n",
    "class ShallowCNN(nn.Module):\n",
    "    def __init__(self):\n",
    "        super().__init__()\n",
    "        self.net = nn.Sequential(\n",
    "            nn.Conv2d(3,16,3,padding=1), nn.ReLU(), nn.MaxPool2d(2),\n",
    "            nn.Conv2d(16,32,3,padding=1), nn.ReLU(), nn.MaxPool2d(2),\n",
    "            nn.AdaptiveAvgPool2d(1),\n",
    "            nn.Flatten(),\n",
    "            nn.Linear(32,2)\n",
    "        )\n",
    "    def forward(self,x): return self.net(x)\n",
    "\n",
    "model = ShallowCNN().to(device)\n",
    "opt = optim.Adam(model.parameters(), lr=1e-3)\n",
    "crit = nn.CrossEntropyLoss()\n",
    "# single epoch quick train\n",
    "model.train()\n",
    "for imgs, labels in tqdm(train_loader, desc=\"Baseline train (1 epoch)\"):\n",
    "    imgs, labels = imgs.to(device), labels.to(device)\n",
    "    opt.zero_grad()\n",
    "    out = model(imgs)\n",
    "    loss = crit(out, labels)\n",
    "    loss.backward()\n",
    "    opt.step()\n",
    "print(\"Baseline train done.\")\n"
   ]
  },
  {
   "cell_type": "code",
   "execution_count": 8,
   "id": "2923362c",
   "metadata": {
    "execution": {
     "iopub.execute_input": "2025-10-14T18:16:29.150764Z",
     "iopub.status.busy": "2025-10-14T18:16:29.149981Z",
     "iopub.status.idle": "2025-10-14T18:20:14.961701Z",
     "shell.execute_reply": "2025-10-14T18:20:14.960783Z"
    },
    "papermill": {
     "duration": 226.061101,
     "end_time": "2025-10-14T18:20:14.963037",
     "exception": false,
     "start_time": "2025-10-14T18:16:28.901936",
     "status": "completed"
    },
    "tags": []
   },
   "outputs": [
    {
     "name": "stderr",
     "output_type": "stream",
     "text": [
      "Downloading: \"https://download.pytorch.org/models/resnet18-f37072fd.pth\" to /root/.cache/torch/hub/checkpoints/resnet18-f37072fd.pth\n",
      "100%|██████████| 44.7M/44.7M [00:00<00:00, 150MB/s]\n",
      "/tmp/ipykernel_19/444143213.py:13: FutureWarning: `torch.cuda.amp.GradScaler(args...)` is deprecated. Please use `torch.amp.GradScaler('cuda', args...)` instead.\n",
      "  scaler = torch.cuda.amp.GradScaler()\n",
      "/usr/local/lib/python3.11/dist-packages/torch/optim/lr_scheduler.py:62: UserWarning: The verbose parameter is deprecated. Please use get_last_lr() to access the learning rate.\n",
      "  warnings.warn(\n",
      "Train E1:   0%|          | 0/350 [00:00<?, ?it/s]/tmp/ipykernel_19/444143213.py:31: FutureWarning: `torch.cuda.amp.autocast(args...)` is deprecated. Please use `torch.amp.autocast('cuda', args...)` instead.\n",
      "  with torch.cuda.amp.autocast():\n",
      "Train E1: 100%|██████████| 350/350 [00:18<00:00, 18.88it/s]\n",
      "Valid:   0%|          | 0/75 [00:00<?, ?it/s]/tmp/ipykernel_19/444143213.py:46: FutureWarning: `torch.cuda.amp.autocast(args...)` is deprecated. Please use `torch.amp.autocast('cuda', args...)` instead.\n",
      "  with torch.cuda.amp.autocast():\n",
      "Valid: 100%|██████████| 75/75 [00:04<00:00, 18.06it/s]\n"
     ]
    },
    {
     "name": "stdout",
     "output_type": "stream",
     "text": [
      "Epoch 1 TrainLoss 0.4782 ValLoss 0.3073 ValAcc 0.8617\n",
      "Saved best_resnet18.pth\n"
     ]
    },
    {
     "name": "stderr",
     "output_type": "stream",
     "text": [
      "Train E2:   0%|          | 0/350 [00:00<?, ?it/s]/tmp/ipykernel_19/444143213.py:31: FutureWarning: `torch.cuda.amp.autocast(args...)` is deprecated. Please use `torch.amp.autocast('cuda', args...)` instead.\n",
      "  with torch.cuda.amp.autocast():\n",
      "Train E2: 100%|██████████| 350/350 [00:17<00:00, 19.58it/s]\n",
      "Valid:   0%|          | 0/75 [00:00<?, ?it/s]/tmp/ipykernel_19/444143213.py:46: FutureWarning: `torch.cuda.amp.autocast(args...)` is deprecated. Please use `torch.amp.autocast('cuda', args...)` instead.\n",
      "  with torch.cuda.amp.autocast():\n",
      "Valid: 100%|██████████| 75/75 [00:04<00:00, 17.94it/s]\n"
     ]
    },
    {
     "name": "stdout",
     "output_type": "stream",
     "text": [
      "Epoch 2 TrainLoss 0.2246 ValLoss 0.2660 ValAcc 0.8821\n",
      "Saved best_resnet18.pth\n"
     ]
    },
    {
     "name": "stderr",
     "output_type": "stream",
     "text": [
      "Train E3:   0%|          | 0/350 [00:00<?, ?it/s]/tmp/ipykernel_19/444143213.py:31: FutureWarning: `torch.cuda.amp.autocast(args...)` is deprecated. Please use `torch.amp.autocast('cuda', args...)` instead.\n",
      "  with torch.cuda.amp.autocast():\n",
      "Train E3: 100%|██████████| 350/350 [00:17<00:00, 19.56it/s]\n",
      "Valid:   0%|          | 0/75 [00:00<?, ?it/s]/tmp/ipykernel_19/444143213.py:46: FutureWarning: `torch.cuda.amp.autocast(args...)` is deprecated. Please use `torch.amp.autocast('cuda', args...)` instead.\n",
      "  with torch.cuda.amp.autocast():\n",
      "Valid: 100%|██████████| 75/75 [00:04<00:00, 17.52it/s]\n"
     ]
    },
    {
     "name": "stdout",
     "output_type": "stream",
     "text": [
      "Epoch 3 TrainLoss 0.1330 ValLoss 0.2154 ValAcc 0.9050\n",
      "Saved best_resnet18.pth\n"
     ]
    },
    {
     "name": "stderr",
     "output_type": "stream",
     "text": [
      "Train E4:   0%|          | 0/350 [00:00<?, ?it/s]/tmp/ipykernel_19/444143213.py:31: FutureWarning: `torch.cuda.amp.autocast(args...)` is deprecated. Please use `torch.amp.autocast('cuda', args...)` instead.\n",
      "  with torch.cuda.amp.autocast():\n",
      "Train E4: 100%|██████████| 350/350 [00:17<00:00, 19.47it/s]\n",
      "Valid:   0%|          | 0/75 [00:00<?, ?it/s]/tmp/ipykernel_19/444143213.py:46: FutureWarning: `torch.cuda.amp.autocast(args...)` is deprecated. Please use `torch.amp.autocast('cuda', args...)` instead.\n",
      "  with torch.cuda.amp.autocast():\n",
      "Valid: 100%|██████████| 75/75 [00:04<00:00, 17.58it/s]\n"
     ]
    },
    {
     "name": "stdout",
     "output_type": "stream",
     "text": [
      "Epoch 4 TrainLoss 0.0962 ValLoss 0.2336 ValAcc 0.9075\n"
     ]
    },
    {
     "name": "stderr",
     "output_type": "stream",
     "text": [
      "Train E5:   0%|          | 0/350 [00:00<?, ?it/s]/tmp/ipykernel_19/444143213.py:31: FutureWarning: `torch.cuda.amp.autocast(args...)` is deprecated. Please use `torch.amp.autocast('cuda', args...)` instead.\n",
      "  with torch.cuda.amp.autocast():\n",
      "Train E5: 100%|██████████| 350/350 [00:18<00:00, 19.41it/s]\n",
      "Valid:   0%|          | 0/75 [00:00<?, ?it/s]/tmp/ipykernel_19/444143213.py:46: FutureWarning: `torch.cuda.amp.autocast(args...)` is deprecated. Please use `torch.amp.autocast('cuda', args...)` instead.\n",
      "  with torch.cuda.amp.autocast():\n",
      "Valid: 100%|██████████| 75/75 [00:04<00:00, 18.41it/s]\n"
     ]
    },
    {
     "name": "stdout",
     "output_type": "stream",
     "text": [
      "Epoch 5 TrainLoss 0.0766 ValLoss 0.1680 ValAcc 0.9371\n",
      "Saved best_resnet18.pth\n"
     ]
    },
    {
     "name": "stderr",
     "output_type": "stream",
     "text": [
      "Train E6:   0%|          | 0/350 [00:00<?, ?it/s]/tmp/ipykernel_19/444143213.py:31: FutureWarning: `torch.cuda.amp.autocast(args...)` is deprecated. Please use `torch.amp.autocast('cuda', args...)` instead.\n",
      "  with torch.cuda.amp.autocast():\n",
      "Train E6: 100%|██████████| 350/350 [00:18<00:00, 19.30it/s]\n",
      "Valid:   0%|          | 0/75 [00:00<?, ?it/s]/tmp/ipykernel_19/444143213.py:46: FutureWarning: `torch.cuda.amp.autocast(args...)` is deprecated. Please use `torch.amp.autocast('cuda', args...)` instead.\n",
      "  with torch.cuda.amp.autocast():\n",
      "Valid: 100%|██████████| 75/75 [00:04<00:00, 17.87it/s]\n"
     ]
    },
    {
     "name": "stdout",
     "output_type": "stream",
     "text": [
      "Epoch 6 TrainLoss 0.0617 ValLoss 0.2382 ValAcc 0.9113\n"
     ]
    },
    {
     "name": "stderr",
     "output_type": "stream",
     "text": [
      "Train E7:   0%|          | 0/350 [00:00<?, ?it/s]/tmp/ipykernel_19/444143213.py:31: FutureWarning: `torch.cuda.amp.autocast(args...)` is deprecated. Please use `torch.amp.autocast('cuda', args...)` instead.\n",
      "  with torch.cuda.amp.autocast():\n",
      "Train E7: 100%|██████████| 350/350 [00:18<00:00, 19.42it/s]\n",
      "Valid:   0%|          | 0/75 [00:00<?, ?it/s]/tmp/ipykernel_19/444143213.py:46: FutureWarning: `torch.cuda.amp.autocast(args...)` is deprecated. Please use `torch.amp.autocast('cuda', args...)` instead.\n",
      "  with torch.cuda.amp.autocast():\n",
      "Valid: 100%|██████████| 75/75 [00:04<00:00, 17.19it/s]\n"
     ]
    },
    {
     "name": "stdout",
     "output_type": "stream",
     "text": [
      "Epoch 7 TrainLoss 0.0538 ValLoss 0.1859 ValAcc 0.9300\n"
     ]
    },
    {
     "name": "stderr",
     "output_type": "stream",
     "text": [
      "Train E8:   0%|          | 0/350 [00:00<?, ?it/s]/tmp/ipykernel_19/444143213.py:31: FutureWarning: `torch.cuda.amp.autocast(args...)` is deprecated. Please use `torch.amp.autocast('cuda', args...)` instead.\n",
      "  with torch.cuda.amp.autocast():\n",
      "Train E8: 100%|██████████| 350/350 [00:18<00:00, 19.35it/s]\n",
      "Valid:   0%|          | 0/75 [00:00<?, ?it/s]/tmp/ipykernel_19/444143213.py:46: FutureWarning: `torch.cuda.amp.autocast(args...)` is deprecated. Please use `torch.amp.autocast('cuda', args...)` instead.\n",
      "  with torch.cuda.amp.autocast():\n",
      "Valid: 100%|██████████| 75/75 [00:04<00:00, 17.88it/s]\n"
     ]
    },
    {
     "name": "stdout",
     "output_type": "stream",
     "text": [
      "Epoch 8 TrainLoss 0.0453 ValLoss 0.3185 ValAcc 0.8988\n"
     ]
    },
    {
     "name": "stderr",
     "output_type": "stream",
     "text": [
      "Train E9:   0%|          | 0/350 [00:00<?, ?it/s]/tmp/ipykernel_19/444143213.py:31: FutureWarning: `torch.cuda.amp.autocast(args...)` is deprecated. Please use `torch.amp.autocast('cuda', args...)` instead.\n",
      "  with torch.cuda.amp.autocast():\n",
      "Train E9: 100%|██████████| 350/350 [00:18<00:00, 19.13it/s]\n",
      "Valid:   0%|          | 0/75 [00:00<?, ?it/s]/tmp/ipykernel_19/444143213.py:46: FutureWarning: `torch.cuda.amp.autocast(args...)` is deprecated. Please use `torch.amp.autocast('cuda', args...)` instead.\n",
      "  with torch.cuda.amp.autocast():\n",
      "Valid: 100%|██████████| 75/75 [00:04<00:00, 17.00it/s]\n"
     ]
    },
    {
     "name": "stdout",
     "output_type": "stream",
     "text": [
      "Epoch 9 TrainLoss 0.0185 ValLoss 0.1612 ValAcc 0.9429\n",
      "Saved best_resnet18.pth\n"
     ]
    },
    {
     "name": "stderr",
     "output_type": "stream",
     "text": [
      "Train E10:   0%|          | 0/350 [00:00<?, ?it/s]/tmp/ipykernel_19/444143213.py:31: FutureWarning: `torch.cuda.amp.autocast(args...)` is deprecated. Please use `torch.amp.autocast('cuda', args...)` instead.\n",
      "  with torch.cuda.amp.autocast():\n",
      "Train E10: 100%|██████████| 350/350 [00:18<00:00, 19.10it/s]\n",
      "Valid:   0%|          | 0/75 [00:00<?, ?it/s]/tmp/ipykernel_19/444143213.py:46: FutureWarning: `torch.cuda.amp.autocast(args...)` is deprecated. Please use `torch.amp.autocast('cuda', args...)` instead.\n",
      "  with torch.cuda.amp.autocast():\n",
      "Valid: 100%|██████████| 75/75 [00:04<00:00, 17.93it/s]"
     ]
    },
    {
     "name": "stdout",
     "output_type": "stream",
     "text": [
      "Epoch 10 TrainLoss 0.0136 ValLoss 0.1757 ValAcc 0.9483\n"
     ]
    },
    {
     "name": "stderr",
     "output_type": "stream",
     "text": [
      "\n"
     ]
    }
   ],
   "source": [
    "# Cell 7: full training function with mixed precision, checkpoint, metrics\n",
    "def get_model(name=\"resnet18\", num_classes=2, pretrained=True):\n",
    "    if name==\"resnet18\":\n",
    "        m = models.resnet18(weights=models.ResNet18_Weights.IMAGENET1K_V1 if pretrained else None)\n",
    "        m.fc = nn.Linear(m.fc.in_features, num_classes)\n",
    "    else:\n",
    "        raise NotImplementedError\n",
    "    return m\n",
    "\n",
    "model = get_model(\"resnet18\").to(device)\n",
    "\n",
    "# training utils\n",
    "scaler = torch.cuda.amp.GradScaler()\n",
    "optimizer = optim.Adam(model.parameters(), lr=1e-4)\n",
    "criterion = nn.CrossEntropyLoss()\n",
    "scheduler = optim.lr_scheduler.ReduceLROnPlateau(optimizer, mode='min', patience=2, factor=0.5, verbose=True)\n",
    "\n",
    "best_val_loss = float('inf')\n",
    "patience = 4\n",
    "counter = 0\n",
    "EPOCHS = 10\n",
    "\n",
    "history = {\"train_loss\":[], \"val_loss\":[], \"val_acc\":[]}\n",
    "\n",
    "for epoch in range(EPOCHS):\n",
    "    model.train()\n",
    "    running=0.0; nbatch=0\n",
    "    for imgs, labels in tqdm(train_loader, desc=f\"Train E{epoch+1}\"):\n",
    "        imgs, labels = imgs.to(device), labels.to(device)\n",
    "        optimizer.zero_grad()\n",
    "        with torch.cuda.amp.autocast():\n",
    "            out = model(imgs)\n",
    "            loss = criterion(out, labels)\n",
    "        scaler.scale(loss).backward()\n",
    "        scaler.step(optimizer)\n",
    "        scaler.update()\n",
    "        running += loss.item(); nbatch += 1\n",
    "    train_loss = running/nbatch\n",
    "    # val\n",
    "    model.eval()\n",
    "    vrun=0.0; vnb=0\n",
    "    all_preds=[]; all_labels=[]\n",
    "    with torch.no_grad():\n",
    "        for imgs, labels in tqdm(val_loader, desc=\"Valid\"):\n",
    "            imgs, labels = imgs.to(device), labels.to(device)\n",
    "            with torch.cuda.amp.autocast():\n",
    "                out = model(imgs)\n",
    "                loss = criterion(out, labels)\n",
    "            vrun += loss.item(); vnb += 1\n",
    "            preds = out.argmax(dim=1).cpu().numpy()\n",
    "            all_preds.extend(preds); all_labels.extend(labels.cpu().numpy())\n",
    "    val_loss = vrun/vnb\n",
    "    val_acc = accuracy_score(all_labels, all_preds)\n",
    "    print(f\"Epoch {epoch+1} TrainLoss {train_loss:.4f} ValLoss {val_loss:.4f} ValAcc {val_acc:.4f}\")\n",
    "    history[\"train_loss\"].append(train_loss); history[\"val_loss\"].append(val_loss); history[\"val_acc\"].append(val_acc)\n",
    "    scheduler.step(val_loss)\n",
    "    # checkpoint\n",
    "    if val_loss < best_val_loss:\n",
    "        best_val_loss = val_loss\n",
    "        counter = 0\n",
    "        torch.save({\"model_state\":model.state_dict(), \"optimizer\":optimizer.state_dict(), \"epoch\":epoch}, Path(WORK_DIR)/\"best_resnet18.pth\")\n",
    "        print(\"Saved best_resnet18.pth\")\n",
    "    else:\n",
    "        counter += 1\n",
    "        if counter >= patience:\n",
    "            print(\"Early stopping triggered\")\n",
    "            break\n"
   ]
  },
  {
   "cell_type": "code",
   "execution_count": 9,
   "id": "ca1ac9af",
   "metadata": {
    "execution": {
     "iopub.execute_input": "2025-10-14T18:20:15.699320Z",
     "iopub.status.busy": "2025-10-14T18:20:15.698643Z",
     "iopub.status.idle": "2025-10-14T18:20:20.919057Z",
     "shell.execute_reply": "2025-10-14T18:20:20.918298Z"
    },
    "papermill": {
     "duration": 5.631001,
     "end_time": "2025-10-14T18:20:20.920133",
     "exception": false,
     "start_time": "2025-10-14T18:20:15.289132",
     "status": "completed"
    },
    "tags": []
   },
   "outputs": [
    {
     "name": "stderr",
     "output_type": "stream",
     "text": [
      "Testing: 100%|██████████| 75/75 [00:04<00:00, 15.99it/s]\n"
     ]
    },
    {
     "name": "stdout",
     "output_type": "stream",
     "text": [
      "Test Acc: 0.9520833333333333\n",
      "Classification report:\n",
      "               precision    recall  f1-score   support\n",
      "\n",
      "           0     0.9576    0.9456    0.9516      1195\n",
      "           1     0.9467    0.9585    0.9526      1205\n",
      "\n",
      "    accuracy                         0.9521      2400\n",
      "   macro avg     0.9522    0.9521    0.9521      2400\n",
      "weighted avg     0.9522    0.9521    0.9521      2400\n",
      "\n"
     ]
    },
    {
     "data": {
      "image/png": "[encoded data removed]",
      "text/plain": [
       "<Figure size 400x400 with 2 Axes>"
      ]
     },
     "metadata": {},
     "output_type": "display_data"
    }
   ],
   "source": [
    "# Cell 8: load best model, evaluate test set\n",
    "ckpt = torch.load(Path(WORK_DIR)/\"best_resnet18.pth\", map_location=device)\n",
    "model.load_state_dict(ckpt[\"model_state\"])\n",
    "model.eval()\n",
    "all_preds=[]; all_labels=[]\n",
    "with torch.no_grad():\n",
    "    for imgs, labels in tqdm(test_loader, desc=\"Testing\"):\n",
    "        imgs = imgs.to(device)\n",
    "        out = model(imgs)\n",
    "        preds = out.argmax(dim=1).cpu().numpy()\n",
    "        all_preds.extend(preds); all_labels.extend(labels.numpy())\n",
    "print(\"Test Acc:\", accuracy_score(all_labels, all_preds))\n",
    "print(\"Classification report:\\n\", classification_report(all_labels, all_preds, digits=4))\n",
    "cm = confusion_matrix(all_labels, all_preds)\n",
    "plt.figure(figsize=(4,4))\n",
    "plt.imshow(cm, interpolation='nearest')\n",
    "plt.title(\"Confusion Matrix\")\n",
    "plt.colorbar(); plt.xlabel(\"Pred\"); plt.ylabel(\"True\")\n",
    "plt.show()\n"
   ]
  },
  {
   "cell_type": "code",
   "execution_count": 10,
   "id": "87a4d413",
   "metadata": {
    "execution": {
     "iopub.execute_input": "2025-10-14T18:20:21.559697Z",
     "iopub.status.busy": "2025-10-14T18:20:21.559131Z",
     "iopub.status.idle": "2025-10-14T18:20:23.111928Z",
     "shell.execute_reply": "2025-10-14T18:20:23.111092Z"
    },
    "papermill": {
     "duration": 1.873248,
     "end_time": "2025-10-14T18:20:23.113223",
     "exception": false,
     "start_time": "2025-10-14T18:20:21.239975",
     "status": "completed"
    },
    "tags": []
   },
   "outputs": [
    {
     "name": "stdout",
     "output_type": "stream",
     "text": [
      "Saved TorchScript at /kaggle/working/deepfake_project/resnet18_traced.pt\n",
      "Saved ONNX at /kaggle/working/deepfake_project/resnet18.onnx\n"
     ]
    }
   ],
   "source": [
    "# Cell 9: export best model to TorchScript and ONNX for deployment\n",
    "model.eval()\n",
    "example = torch.randn(1,3,FRAME_SIZE[0],FRAME_SIZE[1]).to(device)\n",
    "# TorchScript\n",
    "traced = torch.jit.trace(model, example)\n",
    "traced.save(Path(WORK_DIR)/\"resnet18_traced.pt\")\n",
    "print(\"Saved TorchScript at\", Path(WORK_DIR)/\"resnet18_traced.pt\")\n",
    "# ONNX\n",
    "onnx_path = Path(WORK_DIR)/\"resnet18.onnx\"\n",
    "torch.onnx.export(model, example, onnx_path, input_names=[\"input\"], output_names=[\"output\"], opset_version=12)\n",
    "print(\"Saved ONNX at\", onnx_path)\n"
   ]
  },
  {
   "cell_type": "code",
   "execution_count": 11,
   "id": "ed38cabc",
   "metadata": {
    "execution": {
     "iopub.execute_input": "2025-10-14T18:20:23.750412Z",
     "iopub.status.busy": "2025-10-14T18:20:23.749467Z",
     "iopub.status.idle": "2025-10-14T18:20:23.756236Z",
     "shell.execute_reply": "2025-10-14T18:20:23.755688Z"
    },
    "papermill": {
     "duration": 0.322559,
     "end_time": "2025-10-14T18:20:23.757343",
     "exception": false,
     "start_time": "2025-10-14T18:20:23.434784",
     "status": "completed"
    },
    "tags": []
   },
   "outputs": [],
   "source": [
    "# Cell 10: real-time inference function (use webcam=0 or a video file)\n",
    "def realtime_detect_from_video(model, source=0):\n",
    "    model.eval()\n",
    "    cap = cv2.VideoCapture(source)\n",
    "    while True:\n",
    "        ret, frame = cap.read()\n",
    "        if not ret: break\n",
    "        img = cv2.cvtColor(frame, cv2.COLOR_BGR2RGB)\n",
    "        img = cv2.resize(img, FRAME_SIZE)\n",
    "        tensor = transforms.ToTensor()(img)\n",
    "        tensor = transforms.Normalize([0.485,0.456,0.406],[0.229,0.224,0.225])(tensor).unsqueeze(0).to(device)\n",
    "        with torch.no_grad():\n",
    "            out = model(tensor)\n",
    "            prob = torch.softmax(out, dim=1)[0].cpu().numpy()\n",
    "            pred = prob.argmax()\n",
    "            label = \"REAL\" if pred==0 else \"FAKE\"\n",
    "            conf = prob[pred]\n",
    "        color = (0,255,0) if label==\"REAL\" else (0,0,255)\n",
    "        cv2.putText(frame, f\"{label} {conf:.2f}\", (10,30), cv2.FONT_HERSHEY_SIMPLEX, 1, color, 2)\n",
    "        cv2.imshow(\"Real-Time Deepfake Detection\", frame)\n",
    "        if cv2.waitKey(1)&0xFF==ord('q'): break\n",
    "    cap.release(); cv2.destroyAllWindows()\n",
    "\n",
    "# To run (uncomment when you have camera access):\n",
    "# realtime_detect_from_video(model, source=0)\n"
   ]
  },
  {
   "cell_type": "code",
   "execution_count": 12,
   "id": "57966738",
   "metadata": {
    "execution": {
     "iopub.execute_input": "2025-10-14T18:20:24.476236Z",
     "iopub.status.busy": "2025-10-14T18:20:24.475511Z",
     "iopub.status.idle": "2025-10-14T18:20:24.743041Z",
     "shell.execute_reply": "2025-10-14T18:20:24.742290Z"
    },
    "papermill": {
     "duration": 0.589048,
     "end_time": "2025-10-14T18:20:24.744392",
     "exception": false,
     "start_time": "2025-10-14T18:20:24.155344",
     "status": "completed"
    },
    "tags": []
   },
   "outputs": [
    {
     "data": {
      "image/png": "[encoded data removed]",
      "text/plain": [
       "<Figure size 800x400 with 1 Axes>"
      ]
     },
     "metadata": {},
     "output_type": "display_data"
    },
    {
     "data": {
      "image/png": "[encoded data removed]",
      "text/plain": [
       "<Figure size 800x400 with 1 Axes>"
      ]
     },
     "metadata": {},
     "output_type": "display_data"
    }
   ],
   "source": [
    "# Cell 11: plot saved history from training\n",
    "plt.figure(figsize=(8,4))\n",
    "plt.plot(history[\"train_loss\"], label=\"train_loss\")\n",
    "plt.plot(history[\"val_loss\"], label=\"val_loss\")\n",
    "plt.legend(); plt.title(\"Loss\")\n",
    "plt.show()\n",
    "plt.figure(figsize=(8,4))\n",
    "plt.plot(history[\"val_acc\"], label=\"val_acc\")\n",
    "plt.legend(); plt.title(\"Val Accuracy\")\n",
    "plt.show()\n"
   ]
  },
  {
   "cell_type": "code",
   "execution_count": 13,
   "id": "a60fcc16",
   "metadata": {
    "execution": {
     "iopub.execute_input": "2025-10-14T18:20:25.388321Z",
     "iopub.status.busy": "2025-10-14T18:20:25.387486Z",
     "iopub.status.idle": "2025-10-14T18:20:25.393490Z",
     "shell.execute_reply": "2025-10-14T18:20:25.392807Z"
    },
    "papermill": {
     "duration": 0.326278,
     "end_time": "2025-10-14T18:20:25.394864",
     "exception": false,
     "start_time": "2025-10-14T18:20:25.068586",
     "status": "completed"
    },
    "tags": []
   },
   "outputs": [
    {
     "name": "stdout",
     "output_type": "stream",
     "text": [
      "Deliverables ready at /kaggle/working/deepfake_project\n"
     ]
    }
   ],
   "source": [
    "# Cell 12: Prepare deliverables\n",
    "# - best_resnet18.pth (weights)\n",
    "# - resnet18_traced.pt (torchscript)\n",
    "# - resnet18.onnx (onnx)\n",
    "# - training plots saved\n",
    "out = Path(WORK_DIR)\n",
    "# Save report info\n",
    "with open(out/\"report_summary.txt\",\"w\") as f:\n",
    "    f.write(\"DeepFake Detection Project — Summary\\n\")\n",
    "    f.write(f\"Device: {device}\\n\")\n",
    "    f.write(f\"Total frames: {len(full_ds)}\\n\")\n",
    "    f.write(f\"Train/Val/Test sizes: {len(train_ds)},{len(val_ds)},{len(test_ds)}\\n\")\n",
    "    f.write(f\"Best val loss: {best_val_loss}\\n\")\n",
    "print(\"Deliverables ready at\", out)\n"
   ]
  },
  {
   "cell_type": "code",
   "execution_count": 14,
   "id": "70c7bccb",
   "metadata": {
    "execution": {
     "iopub.execute_input": "2025-10-14T18:20:26.139554Z",
     "iopub.status.busy": "2025-10-14T18:20:26.139234Z",
     "iopub.status.idle": "2025-10-14T18:20:26.209110Z",
     "shell.execute_reply": "2025-10-14T18:20:26.208512Z"
    },
    "papermill": {
     "duration": 0.486101,
     "end_time": "2025-10-14T18:20:26.210514",
     "exception": false,
     "start_time": "2025-10-14T18:20:25.724413",
     "status": "completed"
    },
    "tags": []
   },
   "outputs": [],
   "source": [
    "torch.save(model.state_dict(), \"/kaggle/working/deepfake_model.pth\")\n"
   ]
  },
  {
   "cell_type": "code",
   "execution_count": 15,
   "id": "c40c4c5e",
   "metadata": {
    "execution": {
     "iopub.execute_input": "2025-10-14T18:20:26.850466Z",
     "iopub.status.busy": "2025-10-14T18:20:26.849692Z",
     "iopub.status.idle": "2025-10-14T18:20:31.238706Z",
     "shell.execute_reply": "2025-10-14T18:20:31.237728Z"
    },
    "papermill": {
     "duration": 4.70833,
     "end_time": "2025-10-14T18:20:31.239850",
     "exception": false,
     "start_time": "2025-10-14T18:20:26.531520",
     "status": "completed"
    },
    "tags": []
   },
   "outputs": [
    {
     "name": "stderr",
     "output_type": "stream",
     "text": [
      "100%|██████████| 75/75 [00:04<00:00, 17.13it/s]"
     ]
    },
    {
     "name": "stdout",
     "output_type": "stream",
     "text": [
      "Test Accuracy: 95.21%\n",
      "Average Test Loss: 0.1440\n"
     ]
    },
    {
     "name": "stderr",
     "output_type": "stream",
     "text": [
      "\n"
     ]
    }
   ],
   "source": [
    "import torch\n",
    "from tqdm import tqdm\n",
    "\n",
    "device = torch.device(\"cuda\" if torch.cuda.is_available() else \"cpu\")\n",
    "model.eval()\n",
    "\n",
    "correct = 0\n",
    "total = 0\n",
    "loss_total = 0.0\n",
    "\n",
    "criterion = torch.nn.CrossEntropyLoss() \n",
    "\n",
    "with torch.no_grad():\n",
    "    for inputs, labels in tqdm(test_loader): \n",
    "        inputs, labels = inputs.to(device), labels.to(device).long()\n",
    "\n",
    "        outputs = model(inputs)\n",
    "        loss = criterion(outputs, labels)\n",
    "\n",
    "        preds = torch.argmax(outputs, dim=1)  \n",
    "        correct += (preds == labels).sum().item()\n",
    "        total += labels.size(0)\n",
    "        loss_total += loss.item()\n",
    "\n",
    "test_acc = correct / total\n",
    "avg_loss = loss_total / len(test_loader)\n",
    "\n",
    "print(f\"Test Accuracy: {test_acc*100:.2f}%\")\n",
    "print(f\"Average Test Loss: {avg_loss:.4f}\")\n"
   ]
  },
  {
   "cell_type": "code",
   "execution_count": null,
   "id": "9e1cfa82",
   "metadata": {
    "papermill": {
     "duration": 0.424979,
     "end_time": "2025-10-14T18:20:41.337614",
     "exception": false,
     "start_time": "2025-10-14T18:20:40.912635",
     "status": "completed"
    },
    "tags": []
   },
   "outputs": [],
   "source": []
  }
 ],
 "metadata": {
  "kaggle": {
   "accelerator": "nvidiaTeslaT4",
   "dataSources": [
    {
     "datasetId": 6248577,
     "sourceId": 10125851,
     "sourceType": "datasetVersion"
    },
    {
     "datasetId": 8492061,
     "sourceId": 13383851,
     "sourceType": "datasetVersion"
    }
   ],
   "dockerImageVersionId": 31154,
   "isGpuEnabled": true,
   "isInternetEnabled": true,
   "language": "python",
   "sourceType": "notebook"
  },
  "kernelspec": {
   "display_name": "Python 3",
   "language": "python",
   "name": "python3"
  },
  "language_info": {
   "codemirror_mode": {
    "name": "ipython",
    "version": 3
   },
   "file_extension": ".py",
   "mimetype": "text/x-python",
   "name": "python",
   "nbconvert_exporter": "python",
   "pygments_lexer": "ipython3",
   "version": "3.11.13"
  },
  "papermill": {
   "default_parameters": {},
   "duration": 9702.472598,
   "end_time": "2025-10-14T18:20:44.478909",
   "environment_variables": {},
   "exception": null,
   "input_path": "__notebook__.ipynb",
   "output_path": "__notebook__.ipynb",
   "parameters": {},
   "start_time": "2025-10-14T15:39:02.006311",
   "version": "2.6.0"
  }
 },
 "nbformat": 4,
 "nbformat_minor": 5
}
